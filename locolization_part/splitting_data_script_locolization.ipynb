{
 "cells": [
  {
   "cell_type": "code",
   "execution_count": 8,
   "id": "25432511",
   "metadata": {},
   "outputs": [],
   "source": [
    "import pandas as pd\n",
    "import numpy as np\n",
    "import os\n",
    "from pathlib import Path\n",
    "import pydicom \n",
    "import matplotlib.pyplot as plt\n",
    "import seaborn as sns\n",
    "from typing import Tuple\n",
    "from sklearn.model_selection import train_test_split"
   ]
  },
  {
   "cell_type": "code",
   "execution_count": 2,
   "id": "554d3bc2",
   "metadata": {},
   "outputs": [
    {
     "data": {
      "text/html": [
       "<div>\n",
       "<style scoped>\n",
       "    .dataframe tbody tr th:only-of-type {\n",
       "        vertical-align: middle;\n",
       "    }\n",
       "\n",
       "    .dataframe tbody tr th {\n",
       "        vertical-align: top;\n",
       "    }\n",
       "\n",
       "    .dataframe thead th {\n",
       "        text-align: right;\n",
       "    }\n",
       "</style>\n",
       "<table border=\"1\" class=\"dataframe\">\n",
       "  <thead>\n",
       "    <tr style=\"text-align: right;\">\n",
       "      <th></th>\n",
       "      <th>Patient_ids</th>\n",
       "      <th>Class</th>\n",
       "      <th>Encoded_class</th>\n",
       "      <th>Gender</th>\n",
       "      <th>Age</th>\n",
       "      <th>View_position</th>\n",
       "      <th>Modality</th>\n",
       "      <th>coordinates</th>\n",
       "      <th>No_rows</th>\n",
       "      <th>No_columns</th>\n",
       "    </tr>\n",
       "  </thead>\n",
       "  <tbody>\n",
       "    <tr>\n",
       "      <th>0</th>\n",
       "      <td>f74e692e-1ccd-4f5e-bc19-482325025a41</td>\n",
       "      <td>Normal</td>\n",
       "      <td>0</td>\n",
       "      <td>F</td>\n",
       "      <td>62</td>\n",
       "      <td>AP</td>\n",
       "      <td>CR</td>\n",
       "      <td>[nan, nan, nan, nan]</td>\n",
       "      <td>1024</td>\n",
       "      <td>1024</td>\n",
       "    </tr>\n",
       "    <tr>\n",
       "      <th>1</th>\n",
       "      <td>f7909c0c-c9f0-4c93-be7f-113926850ac3</td>\n",
       "      <td>No Lung Opacity / Not Normal</td>\n",
       "      <td>0</td>\n",
       "      <td>F</td>\n",
       "      <td>81</td>\n",
       "      <td>AP</td>\n",
       "      <td>CR</td>\n",
       "      <td>[nan, nan, nan, nan]</td>\n",
       "      <td>1024</td>\n",
       "      <td>1024</td>\n",
       "    </tr>\n",
       "  </tbody>\n",
       "</table>\n",
       "</div>"
      ],
      "text/plain": [
       "                            Patient_ids                         Class  \\\n",
       "0  f74e692e-1ccd-4f5e-bc19-482325025a41                        Normal   \n",
       "1  f7909c0c-c9f0-4c93-be7f-113926850ac3  No Lung Opacity / Not Normal   \n",
       "\n",
       "   Encoded_class Gender Age View_position Modality           coordinates  \\\n",
       "0              0      F  62            AP       CR  [nan, nan, nan, nan]   \n",
       "1              0      F  81            AP       CR  [nan, nan, nan, nan]   \n",
       "\n",
       "   No_rows  No_columns  \n",
       "0     1024        1024  \n",
       "1     1024        1024  "
      ]
     },
     "execution_count": 2,
     "metadata": {},
     "output_type": "execute_result"
    }
   ],
   "source": [
    "process_storage_folder_path:str = os.path.join(os.getcwd(),'final_pre_processed_data','classification_data') \n",
    "saved_file_name_coordinates:str = os.path.join(process_storage_folder_path, \"coordinates_org.pkl\")\n",
    "coordinates_info:pd.DataFrame = pd.read_pickle(saved_file_name_coordinates)\n",
    "coordinates_info.head(2)"
   ]
  },
  {
   "cell_type": "markdown",
   "id": "0ea760aa",
   "metadata": {},
   "source": [
    "#### Extracting the pneumonia"
   ]
  },
  {
   "cell_type": "code",
   "execution_count": 14,
   "id": "169b889e",
   "metadata": {},
   "outputs": [
    {
     "data": {
      "text/html": [
       "<div>\n",
       "<style scoped>\n",
       "    .dataframe tbody tr th:only-of-type {\n",
       "        vertical-align: middle;\n",
       "    }\n",
       "\n",
       "    .dataframe tbody tr th {\n",
       "        vertical-align: top;\n",
       "    }\n",
       "\n",
       "    .dataframe thead th {\n",
       "        text-align: right;\n",
       "    }\n",
       "</style>\n",
       "<table border=\"1\" class=\"dataframe\">\n",
       "  <thead>\n",
       "    <tr style=\"text-align: right;\">\n",
       "      <th></th>\n",
       "      <th>Patient_ids</th>\n",
       "      <th>Class</th>\n",
       "      <th>Gender</th>\n",
       "      <th>Age</th>\n",
       "      <th>View_position</th>\n",
       "      <th>Modality</th>\n",
       "      <th>coordinates</th>\n",
       "      <th>No_rows</th>\n",
       "      <th>No_columns</th>\n",
       "    </tr>\n",
       "  </thead>\n",
       "  <tbody>\n",
       "    <tr>\n",
       "      <th>3</th>\n",
       "      <td>f78a62d0-f9aa-4828-ad8c-ec4917f52d48</td>\n",
       "      <td>Lung Opacity</td>\n",
       "      <td>F</td>\n",
       "      <td>66</td>\n",
       "      <td>AP</td>\n",
       "      <td>CR</td>\n",
       "      <td>[181.0, 695.0, 195.0, 187.0]</td>\n",
       "      <td>1024</td>\n",
       "      <td>1024</td>\n",
       "    </tr>\n",
       "    <tr>\n",
       "      <th>8</th>\n",
       "      <td>f7a42b73-f909-4e1f-89dd-c776f45cdc40</td>\n",
       "      <td>Lung Opacity</td>\n",
       "      <td>M</td>\n",
       "      <td>34</td>\n",
       "      <td>AP</td>\n",
       "      <td>CR</td>\n",
       "      <td>[[638.0, 367.0, 250.0, 519.0], [178.0, 341.0, ...</td>\n",
       "      <td>1024</td>\n",
       "      <td>1024</td>\n",
       "    </tr>\n",
       "  </tbody>\n",
       "</table>\n",
       "</div>"
      ],
      "text/plain": [
       "                            Patient_ids         Class Gender Age  \\\n",
       "3  f78a62d0-f9aa-4828-ad8c-ec4917f52d48  Lung Opacity      F  66   \n",
       "8  f7a42b73-f909-4e1f-89dd-c776f45cdc40  Lung Opacity      M  34   \n",
       "\n",
       "  View_position Modality                                        coordinates  \\\n",
       "3            AP       CR                       [181.0, 695.0, 195.0, 187.0]   \n",
       "8            AP       CR  [[638.0, 367.0, 250.0, 519.0], [178.0, 341.0, ...   \n",
       "\n",
       "   No_rows  No_columns  \n",
       "3     1024        1024  \n",
       "8     1024        1024  "
      ]
     },
     "execution_count": 14,
     "metadata": {},
     "output_type": "execute_result"
    }
   ],
   "source": [
    "pneumonia_cases_data = coordinates_info[coordinates_info['Encoded_class'] == 1][['Patient_ids','Class','Gender','Age','View_position','Modality','coordinates','No_rows','No_columns']]\n",
    "pneumonia_cases_data.head(2)"
   ]
  },
  {
   "cell_type": "code",
   "execution_count": 15,
   "id": "47eca35b",
   "metadata": {},
   "outputs": [
    {
     "name": "stdout",
     "output_type": "stream",
     "text": [
      "The size of training data (4208, 9)\n",
      "The size of validation data (1623, 9)\n",
      "The size of test data (181, 9)\n"
     ]
    }
   ],
   "source": [
    "train_percentage = 0.7\n",
    "validation_percentage = 0.3\n",
    "test_percentage = 0.1\n",
    "\n",
    "#splitting the data into train and validation set\n",
    "train_data,validation_data = train_test_split(\n",
    "      pneumonia_cases_data,\n",
    "      test_size=validation_percentage,\n",
    "      random_state=27,\n",
    "      shuffle=True,\n",
    "  )\n",
    "\n",
    "#splitting the data into validation and test set\n",
    "validation_data,test_data = train_test_split(\n",
    "      validation_data,\n",
    "      test_size=test_percentage,\n",
    "      random_state=27,\n",
    "      shuffle=True,\n",
    "  )\n",
    "\n",
    "print(f'The size of training data {train_data.shape}')\n",
    "print(f'The size of validation data {validation_data.shape}')\n",
    "print(f'The size of test data {test_data.shape}')"
   ]
  },
  {
   "cell_type": "markdown",
   "id": "5f7a3387",
   "metadata": {},
   "source": [
    "#### Saving the splitts"
   ]
  },
  {
   "cell_type": "code",
   "execution_count": 16,
   "id": "bd5b8fcd",
   "metadata": {},
   "outputs": [],
   "source": [
    "base_folder_path = os.path.join(os.getcwd(), 'final_pre_processed_data','locolization_data')\n",
    "train_data.to_csv(os.path.join(base_folder_path,'train.csv'))  \n",
    "validation_data.to_csv(os.path.join(base_folder_path,'validation.csv')) \n",
    "test_data.to_csv(os.path.join(base_folder_path,'test.csv')) "
   ]
  }
 ],
 "metadata": {
  "kernelspec": {
   "display_name": "Python 3 (ipykernel)",
   "language": "python",
   "name": "python3"
  },
  "language_info": {
   "codemirror_mode": {
    "name": "ipython",
    "version": 3
   },
   "file_extension": ".py",
   "mimetype": "text/x-python",
   "name": "python",
   "nbconvert_exporter": "python",
   "pygments_lexer": "ipython3",
   "version": "3.10.5"
  }
 },
 "nbformat": 4,
 "nbformat_minor": 5
}
